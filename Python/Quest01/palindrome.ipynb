{
  "nbformat": 4,
  "nbformat_minor": 0,
  "metadata": {
    "colab": {
      "provenance": [],
      "include_colab_link": true
    },
    "kernelspec": {
      "name": "python3",
      "display_name": "Python 3"
    },
    "language_info": {
      "name": "python"
    }
  },
  "cells": [
    {
      "cell_type": "markdown",
      "metadata": {
        "id": "view-in-github",
        "colab_type": "text"
      },
      "source": [
        "<a href=\"https://colab.research.google.com/github/sophie-myk/AIFFEL_quest_cr/blob/main/Python/Quest01/palindrome.ipynb\" target=\"_parent\"><img src=\"https://colab.research.google.com/assets/colab-badge.svg\" alt=\"Open In Colab\"/></a>"
      ]
    },
    {
      "cell_type": "code",
      "source": [
        "def quest01(word):\n",
        "  reversed_word = word[::-1]\n",
        "  print ('입력한 단어')\n",
        "\n",
        "print('단어입력')\n",
        "단어 = int(input('회문인지 궁금한 단어를 입력해주세요.'))\n",
        "if 첫번째줄 == 두번째줄:\n",
        "     print(True)\n",
        "else:\n",
        "     print(False)\n",
        "\n",
        "\n",
        "     def dog_info(**kwargs):\n",
        "    for kword, arg in kwargs.items():  # 딕셔너리 쌍을 얻는 items() 함수\n",
        "        print(kword, ':', arg)\n",
        "dog_info(name='규봉이')  # 인수가 1개\n",
        "dog_info(name='규봉이', age=10, gender='male')  # 인수가 3개\n",
        "# 딕셔너리 언팩킹\n",
        "a = {'name':'규봉이', 'age':10, 'breed':'진돗개', 'gender':'male'}\n",
        "\n",
        "\n",
        "def"
      ],
      "metadata": {
        "id": "LHKPgX3fgZLc"
      },
      "execution_count": null,
      "outputs": []
    },
    {
      "cell_type": "code",
      "source": [
        "def quest_01(**kwargs):\n",
        "\n",
        "  for kword, arg in kwargs.items():\n",
        "    reversed_word = word[::-1]\n",
        "    print(kword, ':', arg)\n",
        "\n",
        "\n",
        "\n",
        "    if word == reversed_word == quest_01 :\n",
        "     print(True)\n",
        "    else :\n",
        "     print(False)"
      ],
      "metadata": {
        "id": "1MhHYHjokn2X"
      },
      "execution_count": null,
      "outputs": []
    },
    {
      "cell_type": "code",
      "source": [
        "w = \"radder\"\n",
        "w_list = list(w)\n",
        "w_reverse = list(reversed(w_list))\n",
        "print(w_list, w_reverse)\n",
        "if w_list == w_reverse:\n",
        "      print(\"회문 입니다.\")\n",
        "else:\n",
        "    print(\"회문이 아닙니다.\")"
      ],
      "metadata": {
        "colab": {
          "base_uri": "https://localhost:8080/"
        },
        "id": "7cemOcwum4Cq",
        "outputId": "e071186b-095c-4451-e8c7-39c605fb9a55"
      },
      "execution_count": null,
      "outputs": [
        {
          "output_type": "stream",
          "name": "stdout",
          "text": [
            "['r', 'a', 'd', 'd', 'e', 'r'] ['r', 'e', 'd', 'd', 'a', 'r']\n",
            "회문이 아닙니다.\n"
          ]
        }
      ]
    },
    {
      "cell_type": "code",
      "source": [
        "word = int(input('회문인지 궁금한 단어를 입력해주세요.'))\n",
        "w = \"radder\"\n",
        "word_list = list(w)\n",
        "word_reverse = list(reversed(w_list))\n",
        "print(w_list, w_reverse)\n",
        "if word_list == word_reverse:\n",
        "         print(회문 입니다.\")\n",
        "else:\n",
        "     print(\"회문이 아닙니다.\")"
      ],
      "metadata": {
        "colab": {
          "base_uri": "https://localhost:8080/",
          "height": 110
        },
        "id": "DhPT8hFPnoez",
        "outputId": "db427366-d902-4888-f523-fe5722d29723"
      },
      "execution_count": null,
      "outputs": [
        {
          "output_type": "error",
          "ename": "SyntaxError",
          "evalue": "unterminated string literal (detected at line 7) (<ipython-input-8-dcaefba6c7a4>, line 7)",
          "traceback": [
            "\u001b[0;36m  File \u001b[0;32m\"<ipython-input-8-dcaefba6c7a4>\"\u001b[0;36m, line \u001b[0;32m7\u001b[0m\n\u001b[0;31m    print(회문 입니다.\")\u001b[0m\n\u001b[0m                 ^\u001b[0m\n\u001b[0;31mSyntaxError\u001b[0m\u001b[0;31m:\u001b[0m unterminated string literal (detected at line 7)\n"
          ]
        }
      ]
    },
    {
      "cell_type": "code",
      "source": [],
      "metadata": {
        "id": "kV7fp-OpqWrt"
      },
      "execution_count": null,
      "outputs": []
    },
    {
      "cell_type": "code",
      "source": [
        "word = int(input('회문인지 궁금한 단어를 입력해주세요.'))\n",
        "\n",
        "word_list = list(w)\n",
        "word_reverse = list(reversed(word_list))\n",
        "print(word_list, word_reverse)\n",
        "if word_list == word_reverse:\n",
        "         print(\"회문 입니다.\")\n",
        "else:\n",
        "     print(\"회문이 아닙니다.\")"
      ],
      "metadata": {
        "colab": {
          "base_uri": "https://localhost:8080/",
          "height": 239
        },
        "outputId": "ee1ec347-dc92-44d9-9de9-d22239f0bb51",
        "id": "prfwd8gBrcQY"
      },
      "execution_count": null,
      "outputs": [
        {
          "name": "stdout",
          "output_type": "stream",
          "text": [
            "회문인지 궁금한 단어를 입력해주세요.gobackside\n"
          ]
        },
        {
          "output_type": "error",
          "ename": "ValueError",
          "evalue": "invalid literal for int() with base 10: 'gobackside'",
          "traceback": [
            "\u001b[0;31m---------------------------------------------------------------------------\u001b[0m",
            "\u001b[0;31mValueError\u001b[0m                                Traceback (most recent call last)",
            "\u001b[0;32m<ipython-input-10-461caba6ddb5>\u001b[0m in \u001b[0;36m<cell line: 1>\u001b[0;34m()\u001b[0m\n\u001b[0;32m----> 1\u001b[0;31m \u001b[0mword\u001b[0m \u001b[0;34m=\u001b[0m \u001b[0mint\u001b[0m\u001b[0;34m(\u001b[0m\u001b[0minput\u001b[0m\u001b[0;34m(\u001b[0m\u001b[0;34m'회문인지 궁금한 단어를 입력해주세요.'\u001b[0m\u001b[0;34m)\u001b[0m\u001b[0;34m)\u001b[0m\u001b[0;34m\u001b[0m\u001b[0;34m\u001b[0m\u001b[0m\n\u001b[0m\u001b[1;32m      2\u001b[0m \u001b[0;34m\u001b[0m\u001b[0m\n\u001b[1;32m      3\u001b[0m \u001b[0mword_list\u001b[0m \u001b[0;34m=\u001b[0m \u001b[0mlist\u001b[0m\u001b[0;34m(\u001b[0m\u001b[0mw\u001b[0m\u001b[0;34m)\u001b[0m\u001b[0;34m\u001b[0m\u001b[0;34m\u001b[0m\u001b[0m\n\u001b[1;32m      4\u001b[0m \u001b[0mword_reverse\u001b[0m \u001b[0;34m=\u001b[0m \u001b[0mlist\u001b[0m\u001b[0;34m(\u001b[0m\u001b[0mreversed\u001b[0m\u001b[0;34m(\u001b[0m\u001b[0mword_list\u001b[0m\u001b[0;34m)\u001b[0m\u001b[0;34m)\u001b[0m\u001b[0;34m\u001b[0m\u001b[0;34m\u001b[0m\u001b[0m\n\u001b[1;32m      5\u001b[0m \u001b[0mprint\u001b[0m\u001b[0;34m(\u001b[0m\u001b[0mword_list\u001b[0m\u001b[0;34m,\u001b[0m \u001b[0mword_reverse\u001b[0m\u001b[0;34m)\u001b[0m\u001b[0;34m\u001b[0m\u001b[0;34m\u001b[0m\u001b[0m\n",
            "\u001b[0;31mValueError\u001b[0m: invalid literal for int() with base 10: 'gobackside'"
          ]
        }
      ]
    },
    {
      "cell_type": "code",
      "source": [
        "reversed_word = word[::-1]\n",
        "if word == reversed_word :\n",
        "  print(\"\" + word + \"는 회문입니다.\")\n",
        " return True\n",
        " else:\n",
        "    print(\"\" + word + \"는 회문이 아닙니다\")"
      ],
      "metadata": {
        "id": "H5C56FTPo5yD",
        "colab": {
          "base_uri": "https://localhost:8080/",
          "height": 106
        },
        "outputId": "33698735-8635-49c2-8759-2cabbdc85fbe"
      },
      "execution_count": null,
      "outputs": [
        {
          "output_type": "error",
          "ename": "SyntaxError",
          "evalue": "invalid syntax (<ipython-input-13-99b8820c40a4>, line 5)",
          "traceback": [
            "\u001b[0;36m  File \u001b[0;32m\"<ipython-input-13-99b8820c40a4>\"\u001b[0;36m, line \u001b[0;32m5\u001b[0m\n\u001b[0;31m    else:\u001b[0m\n\u001b[0m    ^\u001b[0m\n\u001b[0;31mSyntaxError\u001b[0m\u001b[0;31m:\u001b[0m invalid syntax\n"
          ]
        }
      ]
    },
    {
      "cell_type": "code",
      "source": [
        "word=input()\n",
        "\n",
        "if word==word[::-1]:\n",
        "   print(True)\n",
        "\n",
        "if word ==word[::-1]:\n",
        "       print(\"회문 입니다\")"
      ],
      "metadata": {
        "colab": {
          "base_uri": "https://localhost:8080/"
        },
        "id": "t5dBMHmkr9Q5",
        "outputId": "0c0a82a6-0878-4b89-ea58-324ef7e95f48"
      },
      "execution_count": null,
      "outputs": [
        {
          "output_type": "stream",
          "name": "stdout",
          "text": [
            "기러기\n",
            "True\n",
            "회문 입니다\n"
          ]
        }
      ]
    },
    {
      "cell_type": "code",
      "source": [
        "word=input()\n",
        "\n",
        "if word==word[::-1]:\n",
        "   print(True)\n",
        "\n",
        "if word =="
      ],
      "metadata": {
        "colab": {
          "base_uri": "https://localhost:8080/"
        },
        "outputId": "d857b8ca-d2ed-4b30-f5e0-4d524988fbd5",
        "id": "zFOtsNlqspfv"
      },
      "execution_count": null,
      "outputs": [
        {
          "output_type": "stream",
          "name": "stdout",
          "text": [
            "기러기\n",
            "True\n"
          ]
        }
      ]
    },
    {
      "cell_type": "code",
      "source": [
        "word=input()\n",
        "\n",
        "if word==word[::-1]:\n",
        "   print(True)\n",
        "\n",
        "if word =="
      ],
      "metadata": {
        "colab": {
          "base_uri": "https://localhost:8080/"
        },
        "outputId": "d857b8ca-d2ed-4b30-f5e0-4d524988fbd5",
        "id": "xRJUkYbXsn02"
      },
      "execution_count": null,
      "outputs": [
        {
          "output_type": "stream",
          "name": "stdout",
          "text": [
            "기러기\n",
            "True\n"
          ]
        }
      ]
    },
    {
      "cell_type": "code",
      "source": [
        "word=input()\n",
        "\n",
        "if list(word)==list(reversed(word))\n",
        "   print(True)"
      ],
      "metadata": {
        "colab": {
          "base_uri": "https://localhost:8080/",
          "height": 110
        },
        "collapsed": true,
        "id": "74cj1Z2JsBMt",
        "outputId": "17599b96-11d7-4e64-af21-370f6cebc68c"
      },
      "execution_count": null,
      "outputs": [
        {
          "output_type": "error",
          "ename": "SyntaxError",
          "evalue": "expected ':' (<ipython-input-15-a69da5851295>, line 3)",
          "traceback": [
            "\u001b[0;36m  File \u001b[0;32m\"<ipython-input-15-a69da5851295>\"\u001b[0;36m, line \u001b[0;32m3\u001b[0m\n\u001b[0;31m    if list(word)==list(reversed(word))\u001b[0m\n\u001b[0m                                       ^\u001b[0m\n\u001b[0;31mSyntaxError\u001b[0m\u001b[0;31m:\u001b[0m expected ':'\n"
          ]
        }
      ]
    },
    {
      "cell_type": "code",
      "source": [],
      "metadata": {
        "id": "XgyfdWCbs8Cl"
      },
      "execution_count": null,
      "outputs": []
    },
    {
      "cell_type": "code",
      "source": [
        "word=input()\n",
        "print(word[::-1])\n",
        "\n",
        "if word==word[::-1]:\n",
        "   print(True)\n",
        "\n",
        "if word ==word[::-1]:\n",
        "       print(\"입력된 단어는 회문 입니다.\")\n",
        "\n",
        "if word !=word[::-1]:\n",
        "        print(\"입력된 단어는 회문이 아닙니다.\")"
      ],
      "metadata": {
        "colab": {
          "base_uri": "https://localhost:8080/"
        },
        "outputId": "89b6b822-f769-4f19-9403-7fa6a704453f",
        "id": "Zxp1-tXDs9U9"
      },
      "execution_count": null,
      "outputs": [
        {
          "output_type": "stream",
          "name": "stdout",
          "text": [
            "유성우\n",
            "우성유\n",
            "입력된 단어는 회문이 아닙니다.\n"
          ]
        }
      ]
    },
    {
      "cell_type": "code",
      "source": [
        "word = input('회문인지 궁금한 단어를 입력해주세요.')\n",
        "print(word[::-1])\n",
        "\n",
        "if word==word[::-1]:\n",
        "  print('뒤집힌 단어는:', word[::-1])\n",
        "if word ==word[::-1]:\n",
        "       print(\"입력된 단어는 회문 입니다.\")\n",
        "\n",
        "if word !=word[::-1]:\n",
        "        print(\"뒤집힌 단어는 회문이 아닙니다.\")"
      ],
      "metadata": {
        "id": "OMYLYBUEuIPs",
        "outputId": "4484f1da-2a85-48b5-d906-c21d811321bc",
        "colab": {
          "base_uri": "https://localhost:8080/"
        }
      },
      "execution_count": 10,
      "outputs": [
        {
          "output_type": "stream",
          "name": "stdout",
          "text": [
            "회문인지 궁금한 단어를 입력해주세요.우영우\n",
            "우영우\n",
            "뒤집힌 단어는: 우영우\n",
            "입력된 단어는 회문 입니다.\n"
          ]
        }
      ]
    },
    {
      "cell_type": "code",
      "source": [
        "word = input('회문인지 궁금한 단어를 입력해주세요.')\n",
        "print(word[::-1])\n",
        "print('뒤집힌 단어는:', word[::-1])\n",
        "if word ==word[::-1]:\n",
        "       print(\"입력된 단어는 회문 입니다.\")\n",
        "\n",
        "if word !=word[::-1]:\n",
        "        print(\"뒤집힌 단어는 회문이 아닙니다.\")"
      ],
      "metadata": {
        "colab": {
          "base_uri": "https://localhost:8080/"
        },
        "id": "N_VswPNw09o1",
        "outputId": "68f85443-57b0-4ca6-9c06-5770e08860c5"
      },
      "execution_count": 11,
      "outputs": [
        {
          "output_type": "stream",
          "name": "stdout",
          "text": [
            "회문인지 궁금한 단어를 입력해주세요.우성우\n",
            "우성우\n",
            "뒤집힌 단어는: 우성우\n",
            "입력된 단어는 회문 입니다.\n"
          ]
        }
      ]
    },
    {
      "cell_type": "code",
      "source": [
        "word = input('회문인지 궁금한 단어를 입력해주세요.')\n",
        "print(word[::-1])\n",
        "print('뒤집힌 단어는:', word[::-1])#슬라이싱(Slicing)범위추출을 이용해 단어를 뒤집은것을 출력했다. #뒤집힌단어는, 문자열을기입하여 결과값이 올바르게 도출되도록 하였다.\n",
        "if word ==word[::-1]:#비교연산자를 넣어 if조건문을 이용하여 조건문을 만들었다\n",
        "       print(\"입력된 단어는 회문 입니다.\")\n",
        "\n",
        "if word !=word[::-1]:#비교연산자로 같지않은경우의 조건문을 만들었다\n",
        "        print(\"뒤집힌 단어는 회문이 아닙니다.\")"
      ],
      "metadata": {
        "colab": {
          "base_uri": "https://localhost:8080/"
        },
        "outputId": "68f85443-57b0-4ca6-9c06-5770e08860c5",
        "id": "CXY4cSYL6xxU"
      },
      "execution_count": null,
      "outputs": [
        {
          "output_type": "stream",
          "name": "stdout",
          "text": [
            "회문인지 궁금한 단어를 입력해주세요.우성우\n",
            "우성우\n",
            "뒤집힌 단어는: 우성우\n",
            "입력된 단어는 회문 입니다.\n"
          ]
        }
      ]
    },
    {
      "cell_type": "markdown",
      "source": [
        "(회고)으 정말 너무 어려웠어요\n",
        "ㅠㅠㅠㅠ 무슨 말인지 몰랐지만 일단 실행되는 코드를 진행하고 나니까\n",
        "어째저째 잘 마쳤네요."
      ],
      "metadata": {
        "id": "S8vkVIAM7i3m"
      }
    }
  ]
}