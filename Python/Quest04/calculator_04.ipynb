{
  "nbformat": 4,
  "nbformat_minor": 0,
  "metadata": {
    "colab": {
      "provenance": [],
      "include_colab_link": true
    },
    "kernelspec": {
      "name": "python3",
      "display_name": "Python 3"
    },
    "language_info": {
      "name": "python"
    }
  },
  "cells": [
    {
      "cell_type": "markdown",
      "metadata": {
        "id": "view-in-github",
        "colab_type": "text"
      },
      "source": [
        "<a href=\"https://colab.research.google.com/github/sophie-myk/AIFFEL_quest_cr/blob/main/Python/Quest04/calculator_04.ipynb\" target=\"_parent\"><img src=\"https://colab.research.google.com/assets/colab-badge.svg\" alt=\"Open In Colab\"/></a>"
      ]
    },
    {
      "cell_type": "code",
      "execution_count": null,
      "metadata": {
        "id": "5Mf_UOHGioRf"
      },
      "outputs": [],
      "source": [
        "사용자로부터 두 개의 정수와 연산자(+,-,*,/,**)를 입력받아 계산 결과를 출력하는 프로그램을 만들어주세요\n",
        "\n",
        "\n",
        "조건\n",
        "\n",
        "#1. 사용자가 입력한 값이 정수가 아닌 경우 ValueError를 처리하여 적절한 오류 메시지를 출력\n",
        "#2. 정수가 입력될 때 까지 “잘못된 입력입니다. 정수를 입력해주세요.”를 출력하며 다시 입력받기를 시도\n",
        "#3. 나눗셈 연산 시 두 번째 정수가 0인 경우 ZeroDivisionError를 처리하여 적절한 오류 메시지를 출력\n",
        "#4. math 모듈을 사용하여 제곱 연산(**)을 지원\n",
        "#5. 계산기를 통해 계속 계산을 할 것인지 입력받기\n"
      ]
    },
    {
      "cell_type": "code",
      "source": [
        "import math\n",
        "\n",
        "#1. 사용자가 입력한 값이 정수가 아닌 경우 ValueError를 처리하여 적절한 오류 메시지를 출력\n",
        "#2. 정수가 입력될 때 까지 “잘못된 입력입니다. 정수를 입력해주세요.”를 출력하며 다시 입력받기를 시도\n",
        "def get_integer_input(banana):\n",
        "  while True:\n",
        "    try:\n",
        "      return int(input(banana))  # 정수를 입력받고 반환\n",
        "    except ValueError:  # 정수가 아닌 값을 입력받았을 때 예외 처리\n",
        "      print(\"잘못된 입력입니다. 정수를 입력해주세요.\")\n",
        "\n",
        "def get_operator_input():\n",
        "    while True:\n",
        "        operator = input(\"연산자를 입력하세요 (+, -, *, /, **): \")\n",
        "        if operator in ('+', '-', '*', '/', '**'):  # 지원되는 연산자 체크\n",
        "            return operator\n",
        "        else:\n",
        "            print(\"지원하지 않는 연산자입니다. (+, -, *, /, **) 중 하나를 입력하세요.\")\n",
        "\n",
        "\n",
        "#3. 나눗셈 연산 시 두 번째 정수가 0인 경우 ZeroDivisionError를 처리하여 적절한 오류 메시지를 출력\n",
        "#4. math 모듈을 사용하여 제곱 연산(**)을 지원\n",
        "def calculator():\n",
        "    while True:\n",
        "        # 두 정수 입력받기\n",
        "        a = get_integer_input(\"첫 번째 정수를 입력하세요: \")\n",
        "        b = get_integer_input(\"두 번째 정수를 입력하세요: \")\n",
        "\n",
        "        # 연산자 입력받기\n",
        "        operator = get_operator_input()\n",
        "\n",
        "        try:\n",
        "            if operator == '+':\n",
        "                result = a + b\n",
        "            elif operator == '-':\n",
        "                result = a - b\n",
        "            elif operator == '*':\n",
        "                result = a * b\n",
        "            elif operator == '/':\n",
        "                if b == 0:\n",
        "                    raise ZeroDivisionError(\"0으로 나눌 수 없습니다.\")\n",
        "                result = a / b\n",
        "            elif operator == '**':\n",
        "                result = math.pow(a, b)  # math 모듈을 사용하여 제곱 연산 수행\n",
        "        except ZeroDivisionError as e:\n",
        "            print(e)\n",
        "            continue  # 나누기 연산에서 0으로 나누기 오류가 나면 다시 시도\n",
        "        except Exception as e:\n",
        "            print(f\"오류 발생: {e}\")\n",
        "            continue\n",
        "\n",
        "        # 계산 결과 출력\n",
        "        print(f\"계산 결과: {result}\")\n",
        "\n",
        "#5. 계산기를 통해 계속 계산을 할 것인지 입력받기\n",
        "        # 계속 계산할지 물어보기\n",
        "        continue_calc = input(\"계속 계산하시겠습니까? (y/n): \").strip().lower()\n",
        "        if continue_calc != 'y':\n",
        "            print(\"계산기를 종료합니다.\")\n",
        "            break  # 'y'가 아닌 값을 입력하면 계산기 종료\n",
        "\n",
        "# 계산기 실행\n",
        "calculator()\n"
      ],
      "metadata": {
        "colab": {
          "base_uri": "https://localhost:8080/"
        },
        "id": "iSK-e2AVi7WR",
        "outputId": "09abe7a6-d67c-4c67-ebdd-46ed36fb2fd1"
      },
      "execution_count": null,
      "outputs": [
        {
          "output_type": "stream",
          "name": "stdout",
          "text": [
            "첫 번째 정수를 입력하세요: 1\n",
            "두 번째 정수를 입력하세요: 2\n",
            "연산자를 입력하세요 (+, -, *, /, **): **\n",
            "계산 결과: 1.0\n",
            "계속 계산하시겠습니까? (y/n): n\n",
            "계산기를 종료합니다.\n"
          ]
        }
      ]
    },
    {
      "cell_type": "code",
      "source": [
        "#새로운 시도1: 코드를 더 간단하게 해보기\n",
        "\n",
        "import math\n",
        "\n",
        "def get_int_input(prompt):\n",
        "    \"\"\"사용자로부터 정수를 입력받습니다.\"\"\"\n",
        "    while True:\n",
        "        try:\n",
        "            return int(input(prompt))\n",
        "        except ValueError:\n",
        "            print(\"잘못된 입력입니다. 정수를 입력해주세요.\")\n",
        "\n",
        "def calculate():\n",
        "    \"\"\"간단한 계산기 프로그램.\"\"\"\n",
        "    while True:\n",
        "        num1 = get_int_input(\"첫 번째 정수를 입력하세요: \")\n",
        "        num2 = get_int_input(\"두 번째 정수를 입력하세요: \")\n",
        "        operator = input(\"원하는 연산을 입력하세요 (+, -, *, /, **): \")\n",
        "\n",
        "        try:\n",
        "            if operator == '+':\n",
        "                result = num1 + num2\n",
        "            elif operator == '-':\n",
        "                result = num1 - num2\n",
        "            elif operator == '*':\n",
        "                result = num1 * num2\n",
        "            elif operator == '/':\n",
        "                if num2 == 0:\n",
        "                    raise ZeroDivisionError\n",
        "                result = num1 / num2\n",
        "            elif operator == '**':\n",
        "                result = math.pow(num1, num2)\n",
        "            else:\n",
        "                print(\"지원하지 않는 연산자입니다. 다시 시도해주세요.\")\n",
        "                continue\n",
        "\n",
        "            print(f\"계산 결과: {result}\")\n",
        "        except ZeroDivisionError:\n",
        "            print(\"0으로 나눌 수 없습니다. 다시 입력해주세요.\")\n",
        "\n",
        "        if input(\"계속 계산하시겠습니까? (y/n): \").strip().lower() != 'y':\n",
        "            print(\"계산기를 종료합니다.\")\n",
        "            break\n",
        "\n",
        "# 프로그램 실행\n",
        "calculate()"
      ],
      "metadata": {
        "id": "1Jrc_iQGm0VS"
      },
      "execution_count": null,
      "outputs": []
    },
    {
      "cell_type": "code",
      "source": [
        "#새로운 시도2-1: integer를 float으로 바꾸는 시도\n",
        "\n",
        "import math\n",
        "\n",
        "#1. 사용자가 입력한 값이 정수가 아닌 경우 ValueError를 처리하여 적절한 오류 메시지를 출력\n",
        "#2. 정수가 입력될 때 까지 “잘못된 입력입니다. 정수를 입력해주세요.”를 출력하며 다시 입력받기를 시도\n",
        "def get_integer_input(banana):\n",
        "  while True:\n",
        "    try:\n",
        "      return float(input(banana))  # 실수로 반환\n",
        "    except ValueError:  # 정수가 아닌 값을 입력받았을 때 예외 처리\n",
        "      print(\"잘못된 입력입니다. 정수를 입력해주세요.\")\n",
        "\n",
        "def get_operator_input():\n",
        "    while True:\n",
        "        operator = input(\"연산자를 입력하세요 (+, -, *, /, **): \")\n",
        "        if operator in ('+', '-', '*', '/', '**'):  # 지원되는 연산자 체크\n",
        "            return operator\n",
        "        else:\n",
        "            print(\"지원하지 않는 연산자입니다. (+, -, *, /, **) 중 하나를 입력하세요.\")\n",
        "\n",
        "#3. 나눗셈 연산 시 두 번째 정수가 0인 경우 ZeroDivisionError를 처리하여 적절한 오류 메시지를 출력\n",
        "#4. math 모듈을 사용하여 제곱 연산(**)을 지원\n",
        "def calculator():\n",
        "    while True:\n",
        "        # 두 정수 입력받기\n",
        "        a = get_integer_input(\"첫 번째 정수를 입력하세요: \")\n",
        "        b = get_integer_input(\"두 번째 정수를 입력하세요: \")\n",
        "\n",
        "        # 연산자 입력받기\n",
        "        operator = get_operator_input()\n",
        "\n",
        "        try:\n",
        "            if operator == '+':\n",
        "                result = a + b\n",
        "            elif operator == '-':\n",
        "                result = a - b\n",
        "            elif operator == '*':\n",
        "                result = a * b\n",
        "            elif operator == '/':\n",
        "                if b == 0:\n",
        "                    raise ZeroDivisionError(\"0으로 나눌 수 없습니다.\")\n",
        "                result = a / b\n",
        "            elif operator == '**':\n",
        "                result = math.pow(a, b)  # math 모듈을 사용하여 제곱 연산 수행\n",
        "        except ZeroDivisionError as e:\n",
        "            print(e)\n",
        "            continue  # 나누기 연산에서 0으로 나누기 오류가 나면 다시 시도\n",
        "        except Exception as e:\n",
        "            print(f\"오류 발생: {e}\")\n",
        "            continue\n",
        "\n",
        "        # 계산 결과 출력\n",
        "        print(f\"계산 결과: {result}\")\n",
        "\n",
        "#5. 계산기를 통해 계속 계산을 할 것인지 입력받기\n",
        "        # 계속 계산할지 물어보기\n",
        "        continue_calc = input(\"계속 계산하시겠습니까? (y/n): \").strip().lower()\n",
        "        if continue_calc != 'y':\n",
        "            print(\"계산기를 종료합니다.\")\n",
        "            break  # 'y'가 아닌 값을 입력하면 계산기 종료\n",
        "\n",
        "# 계산기 실행\n",
        "calculator()"
      ],
      "metadata": {
        "colab": {
          "base_uri": "https://localhost:8080/"
        },
        "id": "OXfncbOPov79",
        "outputId": "4ab9326b-d936-42f6-b90b-a3699d45ff0c"
      },
      "execution_count": null,
      "outputs": [
        {
          "output_type": "stream",
          "name": "stdout",
          "text": [
            "첫 번째 정수를 입력하세요: 2.5\n",
            "두 번째 정수를 입력하세요: 2.5\n",
            "연산자를 입력하세요 (+, -, *, /, **): +\n",
            "계산 결과: 5.0\n",
            "계속 계산하시겠습니까? (y/n): y\n",
            "첫 번째 정수를 입력하세요: -2.5\n",
            "두 번째 정수를 입력하세요: 2.5\n",
            "연산자를 입력하세요 (+, -, *, /, **): +\n",
            "계산 결과: 0.0\n",
            "계속 계산하시겠습니까? (y/n): 2.0\n",
            "계산기를 종료합니다.\n"
          ]
        }
      ]
    },
    {
      "cell_type": "code",
      "source": [
        "#새로운 시도2-2: integer를 float으로 바꾸는 시도\n",
        "#실수인 2.5 또는 -2.5를 입력했을 때에도 계산기 프로그램이 정수로 인식하는 것을 새로운 시도2-1에서 확인하고, 이를 수정하고자 함.\n",
        "\n",
        "import math\n",
        "\n",
        "#1. 사용자가 입력한 값이 정수가 아닌 경우 ValueError를 처리하여 적절한 오류 메시지를 출력\n",
        "#2. 정수가 입력될 때 까지 “잘못된 입력입니다. 정수를 입력해주세요.”를 출력하며 다시 입력받기를 시도\n",
        "def get_integer_input(banana):\n",
        "  while True:\n",
        "    try:\n",
        "     return float(input(banana)).is_integer()  # 실수로 반환\n",
        "    except ValueError:  # 정수가 아닌 값을 입력받았을 때 예외 처리\n",
        "      print(\"잘못된 입력입니다. 정수를 입력해주세요.\")\n",
        "\n",
        "def get_operator_input():\n",
        "    while True:\n",
        "        operator = input(\"연산자를 입력하세요 (+, -, *, /, **): \")\n",
        "        if operator in ('+', '-', '*', '/', '**'):  # 지원되는 연산자 체크\n",
        "            return operator\n",
        "        else:\n",
        "            print(\"지원하지 않는 연산자입니다. (+, -, *, /, **) 중 하나를 입력하세요.\")\n",
        "\n",
        "#3. 나눗셈 연산 시 두 번째 정수가 0인 경우 ZeroDivisionError를 처리하여 적절한 오류 메시지를 출력\n",
        "#4. math 모듈을 사용하여 제곱 연산(**)을 지원\n",
        "def calculator():\n",
        "    while True:\n",
        "        # 두 정수 입력받기\n",
        "        a = get_integer_input(\"첫 번째 정수를 입력하세요: \")\n",
        "        b = get_integer_input(\"두 번째 정수를 입력하세요: \")\n",
        "\n",
        "        # 연산자 입력받기\n",
        "        operator = get_operator_input()\n",
        "\n",
        "        try:\n",
        "            if operator == '+':\n",
        "                result = a + b\n",
        "            elif operator == '-':\n",
        "                result = a - b\n",
        "            elif operator == '*':\n",
        "                result = a * b\n",
        "            elif operator == '/':\n",
        "                if b == 0:\n",
        "                    raise ZeroDivisionError(\"0으로 나눌 수 없습니다.\")\n",
        "                result = a / b\n",
        "            elif operator == '**':\n",
        "                result = math.pow(a, b)  # math 모듈을 사용하여 제곱 연산 수행\n",
        "        except ZeroDivisionError as e:\n",
        "            print(e)\n",
        "            continue  # 나누기 연산에서 0으로 나누기 오류가 나면 다시 시도\n",
        "        except Exception as e:\n",
        "            print(f\"오류 발생: {e}\")\n",
        "            continue\n",
        "\n",
        "        # 계산 결과 출력\n",
        "        print(f\"계산 결과: {result}\")\n",
        "\n",
        "#5. 계산기를 통해 계속 계산을 할 것인지 입력받기\n",
        "        # 계속 계산할지 물어보기\n",
        "        continue_calc = input(\"계속 계산하시겠습니까? (y/n): \").strip().lower()\n",
        "        if continue_calc != 'y':\n",
        "            print(\"계산기를 종료합니다.\")\n",
        "            break  # 'y'가 아닌 값을 입력하면 계산기 종료\n",
        "\n",
        "# 계산기 실행\n",
        "calculator()"
      ],
      "metadata": {
        "colab": {
          "base_uri": "https://localhost:8080/"
        },
        "id": "gr1QwQrFql8S",
        "outputId": "0c9f1a85-1377-4c2d-997e-6f563b16e602"
      },
      "execution_count": null,
      "outputs": [
        {
          "output_type": "stream",
          "name": "stdout",
          "text": [
            "첫 번째 정수를 입력하세요: 1\n",
            "두 번째 정수를 입력하세요: 2\n",
            "연산자를 입력하세요 (+, -, *, /, **): *\n",
            "계산 결과: 1\n",
            "계속 계산하시겠습니까? (y/n): y\n",
            "첫 번째 정수를 입력하세요: 2.5\n",
            "두 번째 정수를 입력하세요: 2.5\n",
            "연산자를 입력하세요 (+, -, *, /, **): +\n",
            "계산 결과: 0\n",
            "계속 계산하시겠습니까? (y/n): n\n",
            "계산기를 종료합니다.\n"
          ]
        }
      ]
    },
    {
      "cell_type": "code",
      "source": [
        "#최종결과물\n",
        "#실수인 2.5 또는 -2.5를 입력했을 때에도 계산기 프로그램이 정수로 인식하는 것을 새로운 시도2-1, 2-2에서 확인하고, 이를 수정하고자 함.\n",
        "\n",
        "import math\n",
        "\n",
        "#1. 사용자가 입력한 값이 정수가 아닌 경우 ValueError를 처리하여 적절한 오류 메시지를 출력\n",
        "#2. 정수가 입력될 때 까지 “잘못된 입력입니다. 정수를 입력해주세요.”를 출력하며 다시 입력받기를 시도\n",
        "def get_integer_input(banana):\n",
        "  while True:\n",
        "    try:\n",
        "       user_input = float(input(banana))  # 실수 형태로 입력받기\n",
        "       if user_input.is_integer():  # 정수인지 확인\n",
        "         return int(user_input)  # 정수로 반환\n",
        "       else:\n",
        "         print(\"잘못된 입력입니다. 정수를 입력해주세요.\")  # 소수점이 있는 값은 거부\n",
        "    except ValueError:\n",
        "         print(\"잘못된 입력입니다. 숫자를 입력해주세요.\") # 숫자가 아닌 값 처리\n",
        "\n",
        "def get_operator_input():\n",
        "    while True:\n",
        "        operator = input(\"연산자를 입력하세요 (+, -, *, /, **): \")\n",
        "        if operator in ('+', '-', '*', '/', '**'):  # 지원되는 연산자 체크\n",
        "            return operator\n",
        "        else:\n",
        "            print(\"지원하지 않는 연산자입니다. (+, -, *, /, **) 중 하나를 입력하세요.\")\n",
        "\n",
        "#3. 나눗셈 연산 시 두 번째 정수가 0인 경우 ZeroDivisionError를 처리하여 적절한 오류 메시지를 출력\n",
        "#4. math 모듈을 사용하여 제곱 연산(**)을 지원\n",
        "def calculator():\n",
        "    while True:\n",
        "        # 두 정수 입력받기\n",
        "        a = get_integer_input(\"첫 번째 정수를 입력하세요: \")\n",
        "        b = get_integer_input(\"두 번째 정수를 입력하세요: \")\n",
        "\n",
        "        # 연산자 입력받기\n",
        "        operator = get_operator_input()\n",
        "\n",
        "        try:\n",
        "            if operator == '+':\n",
        "                result = a + b\n",
        "            elif operator == '-':\n",
        "                result = a - b\n",
        "            elif operator == '*':\n",
        "                result = a * b\n",
        "            elif operator == '/':\n",
        "                if b == 0:\n",
        "                    raise ZeroDivisionError(\"0으로 나눌 수 없습니다.\")\n",
        "                result = a / b\n",
        "            elif operator == '**':\n",
        "                result = math.pow(a, b)  # math 모듈을 사용하여 제곱 연산 수행\n",
        "        except ZeroDivisionError as e:\n",
        "            print(e)\n",
        "            continue  # 나누기 연산에서 0으로 나누기 오류가 나면 다시 시도\n",
        "        except Exception as e:\n",
        "            print(f\"오류 발생: {e}\")\n",
        "            continue\n",
        "\n",
        "        # 계산 결과 출력\n",
        "        print(f\"계산 결과: {result}\")\n",
        "\n",
        "#5. 계산기를 통해 계속 계산을 할 것인지 입력받기\n",
        "        # 계속 계산할지 물어보기\n",
        "        continue_calc = input(\"계속 계산하시겠습니까? (y/n): \").strip().lower()\n",
        "        if continue_calc != 'y':\n",
        "            print(\"계산기를 종료합니다.\")\n",
        "            break  # 'y'가 아닌 값을 입력하면 계산기 종료\n",
        "\n",
        "# 계산기 실행\n",
        "calculator()"
      ],
      "metadata": {
        "colab": {
          "base_uri": "https://localhost:8080/"
        },
        "id": "ZQ9SFbpfrqza",
        "outputId": "a03efdf5-3552-4c27-f746-45bdf0bed4b7"
      },
      "execution_count": null,
      "outputs": [
        {
          "output_type": "stream",
          "name": "stdout",
          "text": [
            "첫 번째 정수를 입력하세요: 2.5\n",
            "잘못된 입력입니다. 정수를 입력해주세요.\n",
            "첫 번째 정수를 입력하세요: 2.0\n",
            "두 번째 정수를 입력하세요: -2.5\n",
            "잘못된 입력입니다. 정수를 입력해주세요.\n",
            "두 번째 정수를 입력하세요: -2.0\n",
            "연산자를 입력하세요 (+, -, *, /, **): +\n",
            "계산 결과: 0\n",
            "계속 계산하시겠습니까? (y/n): n\n",
            "계산기를 종료합니다.\n"
          ]
        }
      ]
    },
    {
      "cell_type": "markdown",
      "source": [
        "# 회고\n",
        "\n",
        " 사용자로부터 두 개의 정수와 연산자(+,-,*,/,**)를 입력받아\n",
        "계산 결과를 출력하는 프로그램인 파이썬 계산기 프로그램을 만드는 퀘스트를 진행하였다.\n",
        "노드를 공부할때 공학계산기를 만드는 예시문제가 있었어서 일단 그 문제를 복기하며 접근했었고,\n",
        "정수를 입력받는 과정 -> 입력받은 정수가 잘못되면 해당 상황에 따른 텍스트 출력\n",
        "-> 정수가 올바르게 입력되었다면 두번째 정수도 입력, 원하는 연산 입력하도록 한 후에\n",
        "입력한 2개의 정수를 연산할 수 있도록 정의하고\n",
        "정의하지 않은 연산자는 적절한 오류 메시지(\"지원하지 않는 연산자입니다. 다시 시도해주세요.\") 라는 문구가 출력되도록 설계했다.\n",
        "첫번째로 코드를 완성했을때는 계산기가 잘 만들어진 것 같아 코드를 더 간단하게 만드는 시도만 진행하였다\n",
        "\n",
        "![image.png](data:image/png;base64,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)"
      ],
      "metadata": {
        "id": "tQXi8r2Ut3OI"
      }
    },
    {
      "cell_type": "markdown",
      "source": [
        "그런데, 아뿔싸 ! '-2.0' 값을 정수로 인지 못하고 연산하지 못하는 치명적인 오류가 있었다.\n",
        "이를 수정하기 위해 2번째 시도에서 intger을 float으로 바꾸는 시도를 하기로 했다.\n",
        " return int(input(banana)) -> return float(input(banana))\n",
        "\n",
        " ![image.png](data:image/png;base64,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)![image.png]()\n",
        "\n",
        "![image.png](data:image/png;base64,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)\n"
      ],
      "metadata": {
        "id": "8GebN9rz0VbK"
      }
    },
    {
      "cell_type": "markdown",
      "source": [
        "이번에는 '2.5'와 같은 실수도 정수로 인지하는 사태가 벌어져서\n",
        "'-2.5' 값을 걸러내는 2-2시도를 하게되었고\n",
        "이를통해 원하는 결과값을 얻어낼 수 있었다.\n",
        "\n",
        "* user_input.is_integer() == 실수(float)가 정수처럼 보이는지 확인하는 데 사용됨.\n",
        "소수점 아래 값이 없는지 확인하는 역할.\n",
        "\n",
        "![image.png](data:image/png;base64,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)\n",
        "\n",
        "![image.png](data:image/png;base64,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)\n"
      ],
      "metadata": {
        "id": "3qtNqJhh1HSx"
      }
    },
    {
      "cell_type": "markdown",
      "source": [
        "배운것은 원하는 결과값을 '정확하게'도출하기 위해서는 세분화된 코드에 대한 주의를 요한다는 점이고 코드를 간단하게 하기 위해서 다양한 명령어들을 명확하게 이해하고 자유자재로 활용할 줄 알아야 된다는 점이다.\n",
        "아쉬운 것은 이번에도 chatGPT의 도움을 요했고, 혼자 이 과정을 생각해내는 것에는 막막하고 어려움이 있었다는 점이고 팀원들의 도움으로 끝까지 잘 마칠 수 있었다.\n",
        "앞으로도 꾸준히 코딩을 포기하지않고 알아나가자는 생각이 들었고,\n",
        "적어도 이제는 조금 코딩내용을 뜯어보면 이해할 수 있을 것 같다."
      ],
      "metadata": {
        "id": "2MsQOe1U1ufU"
      }
    }
  ]
}